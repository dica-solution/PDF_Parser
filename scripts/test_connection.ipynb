{
 "cells": [
  {
   "cell_type": "code",
   "execution_count": 94,
   "metadata": {},
   "outputs": [],
   "source": [
    "import json\n",
    "import re\n",
    "import mistune"
   ]
  },
  {
   "cell_type": "code",
   "execution_count": 101,
   "metadata": {},
   "outputs": [],
   "source": [
    "def parse_options(options):\n",
    "    options_dict = []\n",
    "    for option in options:\n",
    "        label = option[0]\n",
    "        content = option[2:]\n",
    "        option_dict = {\n",
    "            'label': label,\n",
    "            'content': content\n",
    "        }\n",
    "        options_dict.append(option_dict)\n",
    "    return options_dict\n",
    "\n",
    "def wrap_latex_with_span(text):\n",
    "    patterns = [r'\\\\\\((.*?)\\\\\\)', r'\\\\\\[(.*?)\\\\\\]', r'\\$\\$(.*?)\\$\\$']\n",
    "    for i in range(3):\n",
    "        if i == 0:\n",
    "            pattern = patterns[i]\n",
    "            def replace_latex(match):\n",
    "                return r'<span class=\"math-tex\">\\({}\\)</span>'.format(match.group(1))\n",
    "            text = re.sub(pattern, replace_latex, text, flags=re.DOTALL)\n",
    "        if i == 1:\n",
    "            pattern = patterns[i]\n",
    "            def replace_latex(match):\n",
    "                return r'<span class=\"math-tex\">\\[{}\\]</span>'.format(match.group(1))\n",
    "            text = re.sub(pattern, replace_latex, text, flags=re.DOTALL)\n",
    "        if i == 2:\n",
    "            pattern = patterns[i]\n",
    "            def replace_latex(match):\n",
    "                return r'<span class=\"math-tex\">\\[{}\\]</span>'.format(match.group(1))\n",
    "            text = re.sub(pattern, replace_latex, text, flags=re.DOTALL)\n",
    "    return text\n",
    "\n",
    "def support_render_on_mobile(text_data):\n",
    "    \n",
    "    if text_data:\n",
    "        text_data = text_data.replace('&amp;', '&').replace('&nbsp;', ' ').replace('&lt;', '<').replace('&gt;', '>').replace('&quot;', '\"').replace('&apos;', \"'\").replace('operatorname', 'text')\n",
    "\n",
    "        pattern = r'<span class=\"math-tex\">\\\\\\[.*?\\\\\\]</span>'\n",
    "        matches = re.findall(pattern, text_data)\n",
    "\n",
    "        for match in matches:\n",
    "            new_match = match.replace('\\\\[', '\\\\(').replace('\\\\]', '\\\\)')\n",
    "            text_data = text_data.replace(match, new_match)\n",
    "\n",
    "        pattern = r'\\\\overparen\\{.*?\\}'\n",
    "        matches = re.findall(pattern, text_data)\n",
    "\n",
    "        for match in matches:\n",
    "            content = match[11:-1]  # 11 is the length of '\\overparen{', -1 is to exclude the closing brace\n",
    "            new_match = '\\\\text{cung } ' + content\n",
    "            text_data = text_data.replace(match, new_match)\n",
    "        \n",
    "        return text_data\n",
    "    return text_data\n",
    "\n",
    "def escape_markdown_special_characters(text):\n",
    "    escape_chars = {\n",
    "        # '\\\\': '\\\\\\\\',\n",
    "        '`': '\\\\`',\n",
    "        '*': '\\\\*',\n",
    "        '_': '\\\\_',\n",
    "        # '{': '\\\\{',\n",
    "        # '}': '\\\\}',\n",
    "        # '[': '\\\\[',\n",
    "        # ']': '\\\\]',\n",
    "        # '(': '\\\\(',\n",
    "        # ')': '\\\\)',\n",
    "        '#': '\\\\#',\n",
    "        '+': '\\\\+',\n",
    "        '-': '\\\\-',\n",
    "        '.': '\\\\.',\n",
    "        '!': '\\\\!',\n",
    "    }\n",
    "    return text.translate(str.maketrans(escape_chars))\n",
    "\n",
    "def transform_data(text_data):\n",
    "    if text_data:\n",
    "        html_parser = mistune.create_markdown(\n",
    "            escape=False,\n",
    "            plugins=['strikethrough', 'footnotes', 'table', 'speedup', 'url', 'math', 'superscript', 'subscript']\n",
    "        )\n",
    "        # text_data = escape_markdown_special_characters(text_data)\n",
    "        text_data = wrap_latex_with_span(text_data)\n",
    "        text_data = \"<p>\" + text_data + \"</p>\"\n",
    "        text_data = support_render_on_mobile(text_data)\n",
    "        return text_data\n",
    "    return text_data"
   ]
  },
  {
   "cell_type": "code",
   "execution_count": 102,
   "metadata": {},
   "outputs": [],
   "source": [
    "data = json.load(open('/home/dica/Projects/syvan_projects/pdf_parser/pdf_parser/paper_exams/003/exam_questions_de-giua-ky-1-toan-12-nam-2022-2023-truong-thpt-phu-cu-hung-yen-HanhTruong.json', 'r'))"
   ]
  },
  {
   "cell_type": "code",
   "execution_count": 103,
   "metadata": {},
   "outputs": [
    {
     "data": {
      "text/plain": [
       "{'question_title': 'Câu 1',\n",
       " 'original_text': 'Giá trị nhỏ nhất của hàm số \\\\(y = x^4 -3x^2\\\\) trên \\\\([-1;1]\\\\) là:',\n",
       " 'quiz_options': ['A. - 2.', 'B. 0.', 'C. - 4.', 'D. - 5.'],\n",
       " 'correct_option': 'C',\n",
       " 'question_type': 'multiple-choice',\n",
       " 'explanation': ''}"
      ]
     },
     "execution_count": 103,
     "metadata": {},
     "output_type": "execute_result"
    }
   ],
   "source": [
    "data[0]"
   ]
  },
  {
   "cell_type": "code",
   "execution_count": 104,
   "metadata": {},
   "outputs": [
    {
     "data": {
      "text/plain": [
       "[{'label': 'A', 'content': ' - 2.'},\n",
       " {'label': 'B', 'content': ' 0.'},\n",
       " {'label': 'C', 'content': ' - 4.'},\n",
       " {'label': 'D', 'content': ' - 5.'}]"
      ]
     },
     "execution_count": 104,
     "metadata": {},
     "output_type": "execute_result"
    }
   ],
   "source": [
    "options = parse_options(data[0]['quiz_options'])\n",
    "options"
   ]
  },
  {
   "cell_type": "code",
   "execution_count": 105,
   "metadata": {},
   "outputs": [
    {
     "data": {
      "text/plain": [
       "'<p> - 2.</p>'"
      ]
     },
     "execution_count": 105,
     "metadata": {},
     "output_type": "execute_result"
    }
   ],
   "source": [
    "transform_data(options[0]['content'])"
   ]
  },
  {
   "cell_type": "code",
   "execution_count": 106,
   "metadata": {},
   "outputs": [
    {
     "name": "stdout",
     "output_type": "stream",
     "text": [
      "<p>Giá trị nhỏ nhất của hàm số <span class=\"math-tex\">\\(y = x^4 -3x^2\\)</span> trên <span class=\"math-tex\">\\([-1;1]\\)</span> là:</p>\n"
     ]
    }
   ],
   "source": [
    "print(transform_data(data[0]['original_text']))"
   ]
  },
  {
   "cell_type": "code",
   "execution_count": 70,
   "metadata": {},
   "outputs": [
    {
     "data": {
      "text/plain": [
       "'<p>Giá trị nhỏ nhất của hàm số <span class=\"math-tex\">\\\\(y = x^4 -3x^2\\\\)</span> trên <span class=\"math-tex\">\\\\([-1;1]\\\\)</span> là:</p>\\n'"
      ]
     },
     "execution_count": 70,
     "metadata": {},
     "output_type": "execute_result"
    }
   ],
   "source": [
    "transform_data(data[0]['original_text'])"
   ]
  },
  {
   "cell_type": "code",
   "execution_count": 71,
   "metadata": {},
   "outputs": [
    {
     "data": {
      "text/plain": [
       "'<p>()</p>\\n'"
      ]
     },
     "execution_count": 71,
     "metadata": {},
     "output_type": "execute_result"
    }
   ],
   "source": [
    "transform_data(\"()\")"
   ]
  },
  {
   "cell_type": "code",
   "execution_count": 80,
   "metadata": {},
   "outputs": [],
   "source": [
    "import json\n",
    "prompt_collection = json.load(open(\"/home/dica/Projects/syvan_projects/pdf_parser/pdf_parser/src/prompt_collections/collection_01.json\", \"r\"))"
   ]
  },
  {
   "cell_type": "code",
   "execution_count": 82,
   "metadata": {},
   "outputs": [
    {
     "data": {
      "text/plain": [
       "{'extract_information': 'Trích xuất toàn bộ thông tin của đề thi ở trang đầu tiên? Trả lời dưới dạng JSON chính xác và đẩy đủ thông tin. Danh sách keys:\\n- exam_code (chỉ trả lời ở dạng số),\\n- number_of_questions (chỉ trả lời ở dạng số),\\n- school,\\n- subject,\\n- grade,\\n- duration (chỉ trả lời ở dạng số),\\n- year (trả lời đẩy đủ năm học),\\n- exam_term (chọn một trong danh sách sau: [Giữa kỳ I, Cuối kỳ I, Giữa kỳ II, Cuối kỳ II, Thi vào lớp 10, Thi THPT, Thi học sinh giỏi, Chất lượng đầu năm, Đánh giá năng lực, Ôn tập chương]),\\n- exam_full_name (trả lời đẩy đủ và chính xác tên kỳ thi như trong tài liệu)',\n",
       " 'get_correct_answer_table': ['Cung cấp bảng chứa đáp án cho từng mã đề dưới dạng bảng, chính xác và đầy đủ thông tin.',\n",
       "  'Dựa vào bảng trên và mã đề, hãy cung cấp đáp án đúng cho từng câu hỏi trong đề dưới dạng bảng thật chính xác.'],\n",
       " 'format_and_function_tag': '- Đối với câu hỏi trắc nghiệm thì định dạng sẽ là:\\n{\\n        \"question_title\": \"Câu 1\",\\n        \"original_text\": \"Cách viết nào sau đây cho ta một phân số?\",\\n        \"quiz_options\": \"A. \\\\\\\\(\\\\\\\\frac{2,5}{7}\\\\\\\\). B. \\\\\\\\(\\\\\\\\frac{8}{0}\\\\\\\\). C. \\\\\\\\(\\\\\\\\frac{-2}{11}\\\\\\\\). D. \\\\\\\\(\\\\\\\\frac{-3}{3,7}\\\\\\\\)\",\\n        \"correct_option\": \"C\",\\n        \"question_type\": \"multiple-choice\",\\n        \"explanation\": \"\"\\n}\\n- Đối với câu hỏi tự luận thì định dạng sẽ là:\\n{\\n        \"question_title\": \"Câu 1\",\\n        \"original_text\": \"Có bao nhiêu giá trị nguyên của m?\",\\n        \"question_type\": \"essay\",\\n        \"explanation\": \"\"  \\n}\\n- Function tag:\\n/extract(X): trích xuất nội dung câu hỏi X theo định mẫu bên trên, với công thức toán thì sử dụng LaTeX trong dấu phân cách \\\\(...\\\\) chắc chắn hiển thị được, hình ảnh bao gồm bảng biến thiên, hình minh hoạ, đồ thị,... có thể bỏ qua, và đảm bảo trích xuất văn bản một cách kỹ lưỡng và chính xác từ tệp PDF được cung cấp, đáp án lấy từ JSON phía trên. Ví dụ: /extract(1)\\n\\nTrả lời \"OK\" nếu bạn đã sẵn sàng trích xuất văn bản theo quy trình trên.',\n",
       " 'extract_question': '/extract(question)'}"
      ]
     },
     "execution_count": 82,
     "metadata": {},
     "output_type": "execute_result"
    }
   ],
   "source": [
    "prompt_collection[0]"
   ]
  },
  {
   "cell_type": "code",
   "execution_count": 87,
   "metadata": {},
   "outputs": [
    {
     "name": "stdout",
     "output_type": "stream",
     "text": [
      "- Đối với câu hỏi trắc nghiệm thì định dạng sẽ là:\n",
      "{\n",
      "        \"question_title\": \"Câu 1\",\n",
      "        \"original_text\": \"Cách viết nào sau đây cho ta một phân số?\",\n",
      "        \"quiz_options\": \"A. \\\\(\\\\frac{2,5}{7}\\\\). B. \\\\(\\\\frac{8}{0}\\\\). C. \\\\(\\\\frac{-2}{11}\\\\). D. \\\\(\\\\frac{-3}{3,7}\\\\)\",\n",
      "        \"correct_option\": \"C\",\n",
      "        \"question_type\": \"multiple-choice\",\n",
      "        \"explanation\": \"\"\n",
      "}\n",
      "- Đối với câu hỏi tự luận thì định dạng sẽ là:\n",
      "{\n",
      "        \"question_title\": \"Câu 1\",\n",
      "        \"original_text\": \"Có bao nhiêu giá trị nguyên của m?\",\n",
      "        \"question_type\": \"essay\",\n",
      "        \"explanation\": \"\"  \n",
      "}\n",
      "- Function tag:\n",
      "/extract(X): trích xuất nội dung câu hỏi X theo định mẫu bên trên, với công thức toán thì sử dụng LaTeX trong dấu phân cách \\(...\\) chắc chắn hiển thị được, hình ảnh bao gồm bảng biến thiên, hình minh hoạ, đồ thị,... có thể bỏ qua, và đảm bảo trích xuất văn bản một cách kỹ lưỡng và chính xác từ tệp PDF được cung cấp, đáp án lấy từ JSON phía trên. Ví dụ: /extract(1)\n",
      "\n",
      "Trả lời \"OK\" nếu bạn đã sẵn sàng trích xuất văn bản theo quy trình trên.\n"
     ]
    }
   ],
   "source": [
    "print(prompt_collection[0]['format_and_function_tag'])"
   ]
  },
  {
   "cell_type": "code",
   "execution_count": 89,
   "metadata": {},
   "outputs": [],
   "source": [
    "options = [\"A. \\\\(\\\\frac{2,5}{7}\\\\).\", \"B. \\\\(\\\\frac{8}{0}\\\\).\", \"C. \\\\(\\\\frac{-2}{11}\\\\).\", \"D. \\\\(\\\\frac{-3}{3,7}\\\\)\"]"
   ]
  },
  {
   "cell_type": "code",
   "execution_count": 93,
   "metadata": {},
   "outputs": [
    {
     "data": {
      "text/plain": [
       "('A.', ' \\\\(\\\\frac{2,5}{7}\\\\).')"
      ]
     },
     "execution_count": 93,
     "metadata": {},
     "output_type": "execute_result"
    }
   ],
   "source": [
    "options[0][:2], options[0][2:]"
   ]
  },
  {
   "cell_type": "code",
   "execution_count": 114,
   "metadata": {},
   "outputs": [
    {
     "name": "stdout",
     "output_type": "stream",
     "text": [
      "hello world\n"
     ]
    }
   ],
   "source": [
    "# a = \"hello \\nworld\"\n",
    "a = \"hello world\"\n",
    "print(a)"
   ]
  },
  {
   "cell_type": "code",
   "execution_count": 115,
   "metadata": {},
   "outputs": [
    {
     "data": {
      "text/plain": [
       "'<p>hello world</p>'"
      ]
     },
     "execution_count": 115,
     "metadata": {},
     "output_type": "execute_result"
    }
   ],
   "source": [
    "b = \"\".join(\"<p>\" + chunk + \"</p>\" for chunk in a.split(\"\\n\"))\n",
    "b"
   ]
  },
  {
   "cell_type": "code",
   "execution_count": 116,
   "metadata": {},
   "outputs": [
    {
     "name": "stdout",
     "output_type": "stream",
     "text": [
      "hello world\n"
     ]
    }
   ],
   "source": [
    "for chunk in a.split(\"\\n\"):\n",
    "    print(chunk)"
   ]
  },
  {
   "cell_type": "code",
   "execution_count": null,
   "metadata": {},
   "outputs": [],
   "source": []
  }
 ],
 "metadata": {
  "kernelspec": {
   "display_name": ".venv",
   "language": "python",
   "name": "python3"
  },
  "language_info": {
   "codemirror_mode": {
    "name": "ipython",
    "version": 3
   },
   "file_extension": ".py",
   "mimetype": "text/x-python",
   "name": "python",
   "nbconvert_exporter": "python",
   "pygments_lexer": "ipython3",
   "version": "3.11.4"
  }
 },
 "nbformat": 4,
 "nbformat_minor": 2
}
